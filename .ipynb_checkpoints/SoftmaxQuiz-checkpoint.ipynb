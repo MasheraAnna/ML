{
 "cells": [
  {
   "cell_type": "code",
   "execution_count": 22,
   "metadata": {
    "collapsed": false,
    "scrolled": true
   },
   "outputs": [
    {
     "name": "stdout",
     "output_type": "stream",
     "text": [
      "[ 0.8360188   0.11314284  0.05083836]\n"
     ]
    },
    {
     "data": {
      "image/png": "[encoded data removed]",
      "text/plain": [
       "<matplotlib.figure.Figure at 0x21781606780>"
      ]
     },
     "metadata": {},
     "output_type": "display_data"
    }
   ],
   "source": [
    "# SoftMax\n",
    "scores = [3.0, 1.0, 0.2]\n",
    "\n",
    "\n",
    "# numpy is a library where math functions can be found\n",
    "import numpy as np\n",
    "\n",
    "def softmax(x):\n",
    "\t# finction np.exp() returns e in degree x\n",
    "\t# np.summ() returns the summ of all meanings in an array, axis = 0 means that the array has one dimention\n",
    "\treturn np.exp(x) / np.sum(np.exp(x), axis = 0) \n",
    "\n",
    "print(softmax(scores))\n",
    "\n",
    "# Plot softmax curves\n",
    "# matplotlib is a library for graphical representation of math functions\n",
    "import matplotlib.pyplot as plt\n",
    "\n",
    "# np.arange - returns spased values wothin a given interval, the first two args are the interval, the third is the step size \n",
    "x = np.arange(-2.0, 6.0, 0.1)\n",
    "# x = np.multiply (10, x)\n",
    "x = np.multiply (0.1, x)\n",
    "\n",
    "# np.ones_like(x) - returns an array, containing only 1s, which has the same value and shape as the given array\n",
    "scores = np.vstack([x, np.ones_like(x), 0.2*np.ones_like(x)])\n",
    "\n",
    "plt.plot(x, softmax(scores).T, linewidth = 2)\n",
    "plt.show()"
   ]
  },
  {
   "cell_type": "code",
   "execution_count": null,
   "metadata": {
    "collapsed": true
   },
   "outputs": [],
   "source": []
  }
 ],
 "metadata": {
  "kernelspec": {
   "display_name": "Python [default]",
   "language": "python",
   "name": "python3"
  },
  "language_info": {
   "codemirror_mode": {
    "name": "ipython",
    "version": 3
   },
   "file_extension": ".py",
   "mimetype": "text/x-python",
   "name": "python",
   "nbconvert_exporter": "python",
   "pygments_lexer": "ipython3",
   "version": "3.5.2"
  }
 },
 "nbformat": 4,
 "nbformat_minor": 1
}
